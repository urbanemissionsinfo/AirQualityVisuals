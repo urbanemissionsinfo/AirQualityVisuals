{
 "cells": [
  {
   "cell_type": "code",
   "execution_count": 1,
   "id": "8f226f0b-6aa7-4a54-a031-610a6159e26b",
   "metadata": {},
   "outputs": [],
   "source": [
    "import matplotlib.pyplot as plt\n",
    "from matplotlib.patches import Rectangle\n",
    "from matplotlib.collections import PatchCollection\n",
    "from matplotlib.colors import ListedColormap\n",
    "import pandas as pd\n",
    "import numpy as np\n",
    "import matplotlib as mpl"
   ]
  },
  {
   "cell_type": "code",
   "execution_count": 42,
   "id": "d4e7aca7-c5a0-4ecf-855d-5535e6b39f7a",
   "metadata": {},
   "outputs": [],
   "source": [
    "df = pd.read_csv('data/AllIndiaBulletins_Master_2024.csv')\n",
    "city = 'Delhi'\n",
    "df = df[df.City == city]\n",
    "df['date'] = pd.to_datetime(df['date'])\n",
    "year = '2024'"
   ]
  },
  {
   "cell_type": "code",
   "execution_count": 43,
   "id": "0302ce26-4085-46e8-b3b4-b88412598a14",
   "metadata": {},
   "outputs": [],
   "source": [
    "# Create a dataframe with a single column - dates of 2023 -- We are producing pollution stripes for one year\n",
    "daily_dates = pd.date_range(start=year+'-01-01', end=year+'-12-31', freq='D')\n",
    "template = pd.DataFrame({'date': daily_dates})"
   ]
  },
  {
   "cell_type": "code",
   "execution_count": 44,
   "id": "dee92898-6463-4fad-bffe-abedfdea8949",
   "metadata": {},
   "outputs": [],
   "source": [
    "df = template.merge(df, on='date', how='left') #Remove this code if you dont want dates without data in calendar\n",
    "df = df.fillna(-1)"
   ]
  },
  {
   "cell_type": "code",
   "execution_count": 45,
   "id": "b665e0d1-8e30-4fe5-93b3-cb068e633c42",
   "metadata": {},
   "outputs": [],
   "source": [
    "# Define the conditions for each category\n",
    "conditions = [\n",
    "    (df['Index Value'] < 0), # Null values are replaced with -1 - this category is for that - remove it if null calendary years are not needed\n",
    "    (df['Index Value'] <= 50),\n",
    "    (df['Index Value'] > 50) & (df['Index Value'] <= 100),\n",
    "    (df['Index Value'] > 100) & (df['Index Value'] <= 200),\n",
    "    (df['Index Value'] > 200) & (df['Index Value'] <= 300),\n",
    "    (df['Index Value'] > 300) & (df['Index Value'] <= 400),\n",
    "    (df['Index Value'] > 400)\n",
    "]\n",
    "categories = [1, 2, 3, 4, 5, 6, 7] #Should be 6 - +1 for the null value category.\n",
    "df['AQI'] = np.select(conditions, categories, default='outlier')\n",
    "df['AQI'] = df['AQI'].astype(int)"
   ]
  },
  {
   "cell_type": "code",
   "execution_count": 46,
   "id": "7105b2ee-049c-47b0-8fbf-1c056575ae23",
   "metadata": {},
   "outputs": [],
   "source": [
    "aqi_colors = ['#eeeeeeff', # Null values are replaced with -1 - this color is for that - remove it if nulls are not needed\n",
    "              '#274e13ff', '#93c47dff', '#f2f542', '#f59042', '#ff0000', '#753b3b']\n",
    "\n",
    "\n",
    "aqi_colors = [aqi_colors[i-1] for i in sorted(df['AQI'].unique())]\n",
    "# Create a custom discrete colormap for AQI\n",
    "cmap = ListedColormap(aqi_colors)\n",
    "aqi_ranges = [0, 50, 100, 200, 300, 400, 500]\n",
    "norm = mpl.colors.BoundaryNorm(aqi_ranges, 6)\n"
   ]
  },
  {
   "cell_type": "code",
   "execution_count": 47,
   "id": "200dc29f-7042-45ec-b137-533c6d30934d",
   "metadata": {},
   "outputs": [
    {
     "data": {
      "image/png": "[encoded data removed]",
      "text/plain": [
       "<Figure size 1400x400 with 1 Axes>"
      ]
     },
     "metadata": {},
     "output_type": "display_data"
    }
   ],
   "source": [
    "# Create the plot\n",
    "fig,ax = plt.subplots(figsize=(14, 4))\n",
    "#ax.set_axis_off()"
   ]
  },
  {
   "cell_type": "code",
   "execution_count": 48,
   "id": "18ed5303-9f82-4897-a5df-5470f3f43cc7",
   "metadata": {},
   "outputs": [
    {
     "data": {
      "text/plain": [
       "<matplotlib.collections.PatchCollection at 0x2b5b77c2a50>"
      ]
     },
     "execution_count": 48,
     "metadata": {},
     "output_type": "execute_result"
    }
   ],
   "source": [
    "# create a collection with a rectangle for each year\n",
    "col = PatchCollection([Rectangle((y, 0), 1, 1) for y in range(0, 365 + 1)], zorder=1)\n",
    "# set data, colormap and color limits\n",
    "col.set_array(df['Index Value'])\n",
    "col.set_cmap(cmap)\n",
    "col.set_norm(norm)\n",
    "\n",
    "ax.add_collection(col)"
   ]
  },
  {
   "cell_type": "code",
   "execution_count": 49,
   "id": "3bf95ea3-821f-4c6a-b483-b706335e3428",
   "metadata": {},
   "outputs": [
    {
     "data": {
      "text/plain": [
       "Text(0.0, 1.03, 'Delhi, 2024')"
      ]
     },
     "execution_count": 49,
     "metadata": {},
     "output_type": "execute_result"
    }
   ],
   "source": [
    "ax.set_ylim(0, 1)\n",
    "ax.set_xlim(0, 365)\n",
    "ax.yaxis.set_visible(False)\n",
    "ax.xaxis.set_visible(False)\n",
    "\n",
    "ax.set_title(city+', '+year, fontsize=20, loc='left', y=1.03)"
   ]
  },
  {
   "cell_type": "code",
   "execution_count": 50,
   "id": "af8153ce-3c3a-4aa2-8601-658b7ec2d715",
   "metadata": {},
   "outputs": [],
   "source": [
    "# ax2 = ax.twinx()\n",
    "# ax2.plot(df.date, df['Index Value'], color='black', linewidth=1.5, )\n",
    "# ax2.yaxis.tick_left()\n",
    "# ax2.yaxis.set_label_position('left')\n",
    "# ax2.set_ylabel('AQI')"
   ]
  },
  {
   "cell_type": "code",
   "execution_count": 51,
   "id": "853ca149-68ac-46f2-a99a-eb436a58560d",
   "metadata": {},
   "outputs": [
    {
     "data": {
      "text/plain": [
       "<Figure size 640x480 with 0 Axes>"
      ]
     },
     "metadata": {},
     "output_type": "display_data"
    }
   ],
   "source": [
    "plt.figtext(0.856, 0.087, '© UrbanEmissions', fontsize=7)\n",
    "plt.figtext(0.907, 0.15, 'Data source: CPCB AQI Bulletins',\n",
    "            rotation=270, fontsize=7)\n",
    "\n",
    "plotfile = 'pollution-stripes.png'\n",
    "fig.savefig('visuals/'+plotfile, bbox_inches='tight', facecolor='white')"
   ]
  },
  {
   "cell_type": "markdown",
   "id": "76b4acaa-ff28-40bf-9c29-86c924601afc",
   "metadata": {},
   "source": [
    "# References\n",
    "1. [Stripes with trend](https://docs.dkrz.de/doc/visualization/sw/python/source_code/python-matplotlib-warming-stripes-and-trend.html)\n",
    "2. [Warming Stripes - Matplotlib blog](https://matplotlib.org/matplotblog/posts/warming-stripes/)"
   ]
  },
  {
   "cell_type": "code",
   "execution_count": null,
   "id": "70bb58d9-7452-403c-a7b5-5a116899fb22",
   "metadata": {},
   "outputs": [],
   "source": []
  },
  {
   "cell_type": "code",
   "execution_count": null,
   "id": "d7c80db7-d859-4fc4-a4ad-0ec1d1debe0f",
   "metadata": {},
   "outputs": [],
   "source": []
  }
 ],
 "metadata": {
  "kernelspec": {
   "display_name": "Python 3 (ipykernel)",
   "language": "python",
   "name": "python3"
  },
  "language_info": {
   "codemirror_mode": {
    "name": "ipython",
    "version": 3
   },
   "file_extension": ".py",
   "mimetype": "text/x-python",
   "name": "python",
   "nbconvert_exporter": "python",
   "pygments_lexer": "ipython3",
   "version": "3.11.7"
  }
 },
 "nbformat": 4,
 "nbformat_minor": 5
}
